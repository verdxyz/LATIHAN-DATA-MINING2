# preprocessing.py
# Tahapan Preprocessing Data pada Dataset Wine Quality

import pandas as pd
from sklearn.model_selection import train_test_split
from sklearn.preprocessing import StandardScaler

# 1. Data Loading
# Pastikan file dataset 'winequality-red.csv' sudah tersedia di direktori yang sama
data = pd.read_csv("winequality-red.csv", sep=";")

# 2. Data Cleaning
# Mengecek missing values
print("Missing values tiap kolom:")
print(data.isnull().sum())

# Menghapus duplikat
data = data.drop_duplicates()

# 3. Data Integration
# (Dataset hanya dari satu sumber, jadi tahap ini dilewati)

# 4. Data Transformation
# Pisahkan fitur dan target
X = data.drop("quality", axis=1)
y = data["quality"]

# Diskretisasi target (Quality -> Baik/Buruk)
y = y.apply(lambda x: 1 if x >= 7 else 0)

# Normalisasi fitur numerik
scaler = StandardScaler()
X_scaled = scaler.fit_transform(X)

# 5. Data Reduction
# (Opsional: bisa gunakan PCA atau feature selection, contoh ini dilewati)

# 6. Split Data (80% training, 20% testing)
X_train, X_test, y_train, y_test = train_test_split(
    X_scaled, y, test_size=0.2, random_state=42
)

print("Jumlah data latih:", len(X_train))
print("Jumlah data uji:", len(X_test))

# Data siap digunakan untuk Modeling
